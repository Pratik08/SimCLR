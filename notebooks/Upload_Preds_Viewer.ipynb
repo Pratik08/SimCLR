{
 "cells": [
  {
   "cell_type": "code",
   "execution_count": 1,
   "metadata": {},
   "outputs": [],
   "source": [
    "import os\n",
    "import json\n",
    "import data_util\n",
    "import numpy as np\n",
    "import tensorflow as tf\n",
    "import tensorflow_hub as hub\n",
    "import ipywidgets as widgets\n",
    "from IPython.display import display, clear_output, Markdown, Image, HTML"
   ]
  },
  {
   "cell_type": "code",
   "execution_count": 2,
   "metadata": {},
   "outputs": [],
   "source": [
    "PID_MAP = '/home/psd2120/research/data/page_id_map.json'\n",
    "EVAL1_TXT = '/home/psd2120/research/data/eval.txt'\n",
    "EVAL1_IMG_DIR = '../data/eval1/'\n",
    "LABELS_TXT = '/home/psd2120/research/data/labels.txt'\n",
    "\n",
    "with open(EVAL1_TXT, 'r') as f:\n",
    "    eval_fnames = f.read().splitlines()\n",
    "\n",
    "with open(PID_MAP, 'r') as f:\n",
    "    pid_map = json.load(f)\n",
    "\n",
    "pid2img = dict()\n",
    "for fname in eval_fnames:\n",
    "    splt = fname.split('/')\n",
    "    pid2img[int(splt[-2])] = splt[-1]\n",
    "\n",
    "label_pid = dict()\n",
    "label_idx = 1\n",
    "with tf.io.gfile.GFile(LABELS_TXT, 'r') as f:\n",
    "    labels = f.read().splitlines()\n",
    "\n",
    "for label in labels:\n",
    "    label_pid[label_idx] = label\n",
    "    label_idx += 1"
   ]
  },
  {
   "cell_type": "code",
   "execution_count": 4,
   "metadata": {},
   "outputs": [
    {
     "name": "stdout",
     "output_type": "stream",
     "text": [
      "WARNING:tensorflow:From /usr/local/lib/python3.7/dist-packages/tensorflow_core/python/ops/resource_variable_ops.py:1786: calling BaseResourceVariable.__init__ (from tensorflow.python.ops.resource_variable_ops) with constraint is deprecated and will be removed in a future version.\n",
      "Instructions for updating:\n",
      "If using Keras pass *_constraint arguments to layers.\n"
     ]
    }
   ],
   "source": [
    "model = hub.load('gs://eol-tfrc-tpu/chkpts/eol2020/finetune/eval/ResNet50_2048/hub/63940/')"
   ]
  },
  {
   "cell_type": "code",
   "execution_count": 5,
   "metadata": {},
   "outputs": [],
   "source": [
    "labels_pid = widgets.FileUpload(accept='.jpg', multiple=False)\n",
    "show_preds = widgets.Button(description=\"Get Preds\")\n",
    "clear = widgets.Button(description=\"Clear\")\n",
    "output = widgets.Output()\n",
    "\n",
    "def on_clear_clicked(b):\n",
    "    with output:\n",
    "        clear_output()\n",
    "\n",
    "def on_show_preds_clicked(b):\n",
    "    on_clear_clicked(b)\n",
    "    with output:\n",
    "        file = labels_pid.value\n",
    "        fname, val = file.popitem()\n",
    "        img = tf.image.decode_jpeg(val['content'], channels=3)\n",
    "        \n",
    "        img = data_util.preprocess_image(img, 224, 224, is_training=False,\\\n",
    "                                         color_distort=True, test_crop=True)\n",
    "        img = tf.expand_dims(img, axis=0)\n",
    "        logits = model.signatures['default'](tf.convert_to_tensor(img))['logits_sup']\n",
    "        preds_conf, preds_idx = tf.nn.top_k(tf.nn.softmax(logits),k=5)\n",
    "        preds_conf = preds_conf.numpy().tolist()[0]\n",
    "        preds_idx = preds_idx.numpy().tolist()[0]\n",
    "        \n",
    "        # Get the image paths\n",
    "        pred_1_img = os.path.join(EVAL1_IMG_DIR, pid2img[int(label_pid[preds_idx[0]])])\n",
    "        pred_2_img = os.path.join(EVAL1_IMG_DIR, pid2img[int(label_pid[preds_idx[1]])])\n",
    "        pred_3_img = os.path.join(EVAL1_IMG_DIR, pid2img[int(label_pid[preds_idx[2]])])\n",
    "        pred_4_img = os.path.join(EVAL1_IMG_DIR, pid2img[int(label_pid[preds_idx[3]])])\n",
    "        pred_5_img = os.path.join(EVAL1_IMG_DIR, pid2img[int(label_pid[preds_idx[4]])])\n",
    "\n",
    "        # Prep for display\n",
    "        display(widgets.Image(value=val[\"content\"], width=300, height=300))\n",
    "        td_pred_1 = \"<td><img src=\" + pred_1_img + \" width='300' height='300'></td>\"\n",
    "        td_pred_2 = \"<td><img src=\" + pred_2_img + \" width='300' height='300'></td>\"\n",
    "        td_pred_3 = \"<td><img src=\" + pred_3_img + \" width='300' height='300'></td>\"\n",
    "        td_pred_4 = \"<td><img src=\" + pred_4_img + \" width='300' height='300'></td>\"\n",
    "        td_pred_5 = \"<td><img src=\" + pred_5_img + \" width='300' height='300'></td>\"\n",
    "\n",
    "        tr_pid = \"<tr><td>\" + 'Pred PID->' + \"</td><td>\" + str(label_pid[preds_idx[0]]) + \"</td><td>\" +\\\n",
    "                  str(label_pid[preds_idx[1]]) + \"</td><td>\" + str(label_pid[preds_idx[2]]) +\\\n",
    "                  \"</td><td>\" + str(label_pid[preds_idx[3]]) +\\\n",
    "                  \"</td><td>\" + str(label_pid[preds_idx[4]]) + \"</td></tr>\"\n",
    "\n",
    "        tr_name = \"<tr><td>\" + 'canonicalName->' + \"</td><td>\" +\\\n",
    "                  pid_map[label_pid[preds_idx[0]]]['canonicalName'] + \"</td><td>\" +\\\n",
    "                  pid_map[label_pid[preds_idx[1]]]['canonicalName'] + \"</td><td>\" +\\\n",
    "                  pid_map[label_pid[preds_idx[2]]]['canonicalName'] + \"</td><td>\" +\\\n",
    "                  pid_map[label_pid[preds_idx[3]]]['canonicalName'] +\\\n",
    "                  \"</td><td>\" + pid_map[label_pid[preds_idx[4]]]['canonicalName'] + \"</td></tr>\"\n",
    "\n",
    "        tr_conf = \"<tr><td>\" + 'Softmax Prob. ->' + \"</td><td>\" + str(round(preds_conf[0],3)) + \"</td><td>\" +\\\n",
    "                  str(round(preds_conf[1],3)) + \"</td><td>\" + str(round(preds_conf[2],3)) + \"</td><td>\" +\\\n",
    "                  str(round(preds_conf[3],3)) + \"</td><td>\" + str(round(preds_conf[4],3)) + \"</td></tr>\"\n",
    "\n",
    "        tr = \"<table><tr>\" +\\\n",
    "             '<td>Preds-></td>' + td_pred_1 + td_pred_2 +\\\n",
    "             td_pred_3 + td_pred_4 + td_pred_5 +\\\n",
    "             \"</tr>\" + tr_pid + tr_name + tr_conf + \"</table>\"\n",
    "        display(HTML(tr))\n",
    "\n",
    "\n",
    "show_preds.on_click(on_show_preds_clicked)\n",
    "clear.on_click(on_clear_clicked)"
   ]
  },
  {
   "cell_type": "code",
   "execution_count": 6,
   "metadata": {},
   "outputs": [
    {
     "data": {
      "application/vnd.jupyter.widget-view+json": {
       "model_id": "c6fa7a0a364c481b91f3d436cae439a9",
       "version_major": 2,
       "version_minor": 0
      },
      "text/plain": [
       "HBox(children=(FileUpload(value={}, accept='.jpg', description='Upload'), Button(description='Get Preds', styl…"
      ]
     },
     "metadata": {},
     "output_type": "display_data"
    },
    {
     "data": {
      "application/vnd.jupyter.widget-view+json": {
       "model_id": "ea48bd62d5044526837088376fd1b3ee",
       "version_major": 2,
       "version_minor": 0
      },
      "text/plain": [
       "Output()"
      ]
     },
     "metadata": {},
     "output_type": "display_data"
    }
   ],
   "source": [
    "display(widgets.HBox((labels_pid, show_preds, clear)))\n",
    "display(output)"
   ]
  },
  {
   "cell_type": "code",
   "execution_count": null,
   "metadata": {},
   "outputs": [],
   "source": []
  }
 ],
 "metadata": {
  "kernelspec": {
   "display_name": "Python 3",
   "language": "python",
   "name": "python3"
  },
  "language_info": {
   "codemirror_mode": {
    "name": "ipython",
    "version": 3
   },
   "file_extension": ".py",
   "mimetype": "text/x-python",
   "name": "python",
   "nbconvert_exporter": "python",
   "pygments_lexer": "ipython3",
   "version": "3.7.3"
  }
 },
 "nbformat": 4,
 "nbformat_minor": 4
}
