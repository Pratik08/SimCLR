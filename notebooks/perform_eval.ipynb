{
 "cells": [
  {
   "cell_type": "code",
   "execution_count": 1,
   "metadata": {},
   "outputs": [],
   "source": [
    "from __future__ import absolute_import\n",
    "from __future__ import division\n",
    "from __future__ import print_function\n",
    "\n",
    "import json\n",
    "import math\n",
    "import os\n",
    "import sys\n",
    "from absl import app\n",
    "from absl import flags\n",
    "\n",
    "import resnet\n",
    "import data_eol as data_lib\n",
    "import model as model_lib\n",
    "import model_util as model_util\n",
    "\n",
    "import tensorflow.compat.v1 as tf\n",
    "import tensorflow_datasets as tfds\n",
    "import tensorflow_hub as hub"
   ]
  },
  {
   "cell_type": "code",
   "execution_count": 2,
   "metadata": {},
   "outputs": [],
   "source": [
    "import numpy as np"
   ]
  },
  {
   "cell_type": "code",
   "execution_count": 3,
   "metadata": {},
   "outputs": [],
   "source": [
    "tf.disable_eager_execution()\n",
    "tf.config.set_soft_device_placement(True)"
   ]
  },
  {
   "cell_type": "code",
   "execution_count": null,
   "metadata": {},
   "outputs": [],
   "source": [
    "train_batch_size = 2048\n",
    "eval_batch_size = 2048\n",
    "num_train_examples = 2847269\n",
    "num_eval_examples = 351354\n",
    "\n",
    "train_steps = (num_train_examples * 100 // train_batch_size + 1)\n",
    "eval_steps = int(math.ceil(num_eval_examples / eval_batch_size))\n",
    "epoch_steps = int(round(num_train_examples / train_batch_size))\n",
    "\n",
    "labels_path = '/home/psd2120/research/data/labels.txt'\n",
    "checkpoint_path = 'gs://eol-tfrc-tpu/chkpts/eol2020/finetune/experiment/ResNet50_2048/'\n",
    "tpu_name = 'grpc://10.196.234.178:8470'\n",
    "model_dir = 'gs://eol-tfrc-tpu/chkpts/eol2020/finetune/experiment/out/'"
   ]
  },
  {
   "cell_type": "code",
   "execution_count": null,
   "metadata": {},
   "outputs": [],
   "source": [
    "def my_mean_acc_class(labels, predictions):\n",
    "    return {'mean_acc_class': tf.metrics.mean_per_class_accuracy(labels, predictions, 72626)}"
   ]
  },
  {
   "cell_type": "code",
   "execution_count": null,
   "metadata": {},
   "outputs": [],
   "source": [
    "eval_steps = int(math.ceil(num_eval_examples / eval_batch_size))\n",
    "\n",
    "with tf.io.gfile.GFile(labels_path, 'r') as f:\n",
    "    x = f.read().splitlines()\n",
    "num_classes = len(x)"
   ]
  },
  {
   "cell_type": "code",
   "execution_count": null,
   "metadata": {},
   "outputs": [],
   "source": [
    "resnet.BATCH_NORM_DECAY = 0.9\n",
    "model = resnet.resnet_v1(resnet_depth=50,\n",
    "                         width_multiplier=1,\n",
    "                         cifar_stem=False)"
   ]
  },
  {
   "cell_type": "code",
   "execution_count": null,
   "metadata": {},
   "outputs": [],
   "source": [
    "reader = tf.train.load_checkpoint(tf.train.latest_checkpoint(checkpoint_path))"
   ]
  },
  {
   "cell_type": "code",
   "execution_count": null,
   "metadata": {},
   "outputs": [],
   "source": [
    "for x in reader:\n",
    "    print(x)"
   ]
  },
  {
   "cell_type": "code",
   "execution_count": null,
   "metadata": {},
   "outputs": [],
   "source": [
    "cluster = tf.distribute.cluster_resolver.TPUClusterResolver(tpu_name)\n",
    "default_eval_mode = tf.estimator.tpu.InputPipelineConfig.PER_HOST_V1\n",
    "sliced_eval_mode = tf.estimator.tpu.InputPipelineConfig.SLICED\n",
    "\n",
    "model_fn = model_lib.build_model_fn(model, num_classes, num_train_examples)\n",
    "input_fn = data_lib.build_input_fn(num_classes, False)\n",
    "tpu_config = tf.estimator.tpu.TPUConfig(iterations_per_loop=train_steps,\n",
    "                                        eval_training_input_configuration=sliced_eval_mode)"
   ]
  },
  {
   "cell_type": "code",
   "execution_count": null,
   "metadata": {},
   "outputs": [],
   "source": [
    "run_config = tf.estimator.tpu.RunConfig(\n",
    "    tpu_config=tpu_config,\n",
    "    model_dir=model_dir,\n",
    "    save_summary_steps=100,\n",
    "    save_checkpoints_steps=epoch_steps,\n",
    "    keep_checkpoint_max=5,\n",
    "    master=None,\n",
    "    cluster=cluster)"
   ]
  },
  {
   "cell_type": "code",
   "execution_count": null,
   "metadata": {},
   "outputs": [],
   "source": [
    "estimator = tf.estimator.tpu.TPUEstimator(model_fn,\n",
    "                                          config=run_config,\n",
    "                                          train_batch_size=train_batch_size,\n",
    "                                          eval_batch_size=eval_batch_size,\n",
    "                                          use_tpu=True)"
   ]
  },
  {
   "cell_type": "code",
   "execution_count": null,
   "metadata": {},
   "outputs": [],
   "source": [
    "est = tf.estimator.Estimator(model_fn, checkpoint_path)"
   ]
  },
  {
   "cell_type": "code",
   "execution_count": null,
   "metadata": {},
   "outputs": [],
   "source": [
    "input_fn = data_lib.build_input_fn(num_classes, False)\n",
    "# estimator = tf.estimator.add_metrics(estimator, my_mean_acc_class)"
   ]
  },
  {
   "cell_type": "code",
   "execution_count": null,
   "metadata": {},
   "outputs": [],
   "source": [
    "result = est.evaluate(input_fn, eval_steps, checkpoint_path=checkpoint_path, name='sanity')"
   ]
  },
  {
   "cell_type": "code",
   "execution_count": null,
   "metadata": {},
   "outputs": [],
   "source": [
    "tf.estimator.ModeKeys.TRAIN"
   ]
  },
  {
   "cell_type": "code",
   "execution_count": 4,
   "metadata": {},
   "outputs": [
    {
     "name": "stdout",
     "output_type": "stream",
     "text": [
      "WARNING:tensorflow:From /usr/local/lib/python3.7/dist-packages/tensorflow_core/python/ops/resource_variable_ops.py:1635: calling BaseResourceVariable.__init__ (from tensorflow.python.ops.resource_variable_ops) with constraint is deprecated and will be removed in a future version.\n",
      "Instructions for updating:\n",
      "If using Keras pass *_constraint arguments to layers.\n"
     ]
    }
   ],
   "source": [
    "preds = tf.placeholder(tf.int64, [1,8])\n",
    "labels = tf.Variable([1, 1, 2, 2, 2, 3, 3, 0])\n",
    "\n",
    "acc, acc_op = tf.metrics.mean_per_class_accuracy(labels, preds, 5)"
   ]
  },
  {
   "cell_type": "code",
   "execution_count": 5,
   "metadata": {},
   "outputs": [
    {
     "name": "stdout",
     "output_type": "stream",
     "text": [
      "[<tf.Variable 'mean_accuracy/total:0' shape=(5,) dtype=float32>, <tf.Variable 'mean_accuracy/count:0' shape=(5,) dtype=float32>]\n"
     ]
    }
   ],
   "source": [
    "sess = tf.Session()\n",
    "\n",
    "sess.run(tf.local_variables_initializer())\n",
    "sess.run(tf.global_variables_initializer())\n",
    "\n",
    "stream_vars = [i for i in tf.local_variables()]\n",
    "print(stream_vars)"
   ]
  },
  {
   "cell_type": "code",
   "execution_count": 6,
   "metadata": {},
   "outputs": [
    {
     "name": "stdout",
     "output_type": "stream",
     "text": [
      "acc: 0.0\n",
      "[total, count]: [array([0., 0., 0., 0., 0.], dtype=float32), array([0., 0., 0., 0., 0.], dtype=float32)]\n"
     ]
    }
   ],
   "source": [
    "print('acc:',sess.run(acc, {preds:np.array([1, 4, 2, 1, 3, 3, 3, 0]).reshape(1, 8)}))\n",
    "#acc: 0.0\n",
    "\n",
    "print('[total, count]:',sess.run(stream_vars)) \n",
    "#[total, count]: [0.0, 0.0]"
   ]
  },
  {
   "cell_type": "code",
   "execution_count": 7,
   "metadata": {},
   "outputs": [
    {
     "name": "stdout",
     "output_type": "stream",
     "text": [
      "ops: [1.         0.5        0.33333334 1.         0.        ]\n",
      "[total, count]: [array([1., 2., 3., 2., 0.], dtype=float32), array([1., 1., 1., 2., 0.], dtype=float32)]\n"
     ]
    }
   ],
   "source": [
    "print('ops:', sess.run(acc_op, {preds:np.array([1, 4, 2, 1, 3, 3, 3, 0]).reshape(1, 8)})) \n",
    "#ops: 1.0\n",
    "\n",
    "print('[total, count]:',sess.run(stream_vars)) \n",
    "#[total, count]: [2.0, 2.0]"
   ]
  },
  {
   "cell_type": "code",
   "execution_count": 8,
   "metadata": {},
   "outputs": [
    {
     "name": "stdout",
     "output_type": "stream",
     "text": [
      "acc: 0.5666667\n"
     ]
    }
   ],
   "source": [
    "print('acc:', sess.run(acc, {preds:np.array([1, 4, 2, 1, 3, 3, 3, 0]).reshape(1, 8)}))"
   ]
  },
  {
   "cell_type": "code",
   "execution_count": null,
   "metadata": {},
   "outputs": [],
   "source": []
  }
 ],
 "metadata": {
  "kernelspec": {
   "display_name": "Python 3",
   "language": "python",
   "name": "python3"
  },
  "language_info": {
   "codemirror_mode": {
    "name": "ipython",
    "version": 3
   },
   "file_extension": ".py",
   "mimetype": "text/x-python",
   "name": "python",
   "nbconvert_exporter": "python",
   "pygments_lexer": "ipython3",
   "version": "3.7.3"
  }
 },
 "nbformat": 4,
 "nbformat_minor": 4
}
